{
  "cells": [
    {
      "cell_type": "markdown",
      "metadata": {
        "id": "bEEKUMWtiKfF"
      },
      "source": [
        "##**Function to convert a Microsoft Excel Epoch date to a \"YYYY-MM-DD\" date Format.**\n",
        "\n",
        "##**Books borrowed and returned were in 2023.**"
      ]
    },
    {
      "cell_type": "code",
      "execution_count": null,
      "metadata": {
        "colab": {
          "base_uri": "https://localhost:8080/"
        },
        "id": "wdDsgCuX7fjl",
        "outputId": "3d7417b5-4db2-43ae-9167-72b84a8a5ad2"
      },
      "outputs": [
        {
          "output_type": "stream",
          "name": "stdout",
          "text": [
            "      book_number  member_number date_of_loan date_of_return\n",
            "0              16            126   2023-01-01     2023-01-18\n",
            "1              31            192   2023-01-01     2023-01-19\n",
            "2              57            199   2023-01-01     2023-01-21\n",
            "3             100            140   2023-01-01     2023-01-15\n",
            "4             100             39   2023-01-01     2023-01-08\n",
            "...           ...            ...          ...            ...\n",
            "2204           49            117   2023-12-30     2023-12-31\n",
            "2205           62            130   2023-12-30     2023-12-31\n",
            "2206           63             19   2023-12-30     2023-12-31\n",
            "2207           94            178   2023-12-30     2023-12-31\n",
            "2208           99             53   2023-12-30     2023-12-31\n",
            "\n",
            "[2158 rows x 4 columns]\n"
          ]
        }
      ],
      "source": [
        "import pandas as pd\n",
        "import datetime\n",
        "\n",
        "df1=pd.read_csv(\"/content/books (1).csv\")\n",
        "\n",
        "# df1 = pd.read_csv(\"books(1).csv\")\n",
        "df = pd.read_csv(\"bookloans (1).csv\")\n",
        "\n",
        "df1.isna()\n",
        "\n",
        "def excel_to_date(excel_date: int) -> str:\n",
        "    \"\"\"\n",
        "    Convert a date represented as the number of days since the Excel epoch to a string in the format 'YYYY-MM-DD'.\n",
        "\n",
        "    Parameters:\n",
        "        excel_date (int): The number of days since the Excel epoch (December 30, 1899) to be converted.\n",
        "\n",
        "    Returns:\n",
        "        str: A string in the format 'YYYY-MM-DD' representing the date corresponding to the input number of days.\n",
        "    \"\"\"\n",
        "    # Define the starting date of the Excel epoch\n",
        "    excel_epoch_start = datetime.datetime(1899, 12, 30)\n",
        "\n",
        "    # Calculate the Python date by adding the number of days to the Excel epoch start\n",
        "    py_date = excel_epoch_start + datetime.timedelta(days=excel_date)\n",
        "\n",
        "    # Format the Python date as a string in 'YYYY-MM-DD' format\n",
        "    return py_date.strftime('%Y-%m-%d')\n",
        "\n",
        "# Example usage\n",
        "# print(excel_to_date(45299))\n",
        "# print(excel_to_date(45553))\n",
        "\n",
        "\n",
        "# Define your header names as a list\n",
        "header_names = [\"book_number\", \"member_number\", \"date_of_loan\" ,\"date_of_return\"]\n",
        "\n",
        "# Read the CSV file with the specified header names\n",
        "df = pd.read_csv(\"/content/bookloans (1).csv\", header=None, names=header_names)\n",
        "\n",
        "# print(df)\n",
        "\n",
        "\n",
        "# converting date\n",
        "date = \"\"\n",
        "for index,value in enumerate(df[\"date_of_loan\"]):\n",
        "    date = excel_to_date(value)\n",
        "    df[\"date_of_loan\"][index] = date\n",
        "\n",
        "# Convert Excel dates_of_return to 'YYYY-MM-DD' format\n",
        "df[\"date_of_return\"] = df[\"date_of_return\"].apply(excel_to_date)\n",
        "\n",
        "# print (df)\n",
        "\n",
        "\n",
        "# Filter the DataFrame to keep only rows from the year 2023\n",
        "df_2023 = df[(df[\"date_of_loan\"] >= \"2023-01-01\") & (df[\"date_of_loan\"] <= \"2023-12-31\")]\n",
        "df_2023 = df[(df[\"date_of_return\"] >= \"2023-01-01\") & (df[\"date_of_return\"] <= \"2023-12-31\")]\n",
        "\n",
        "# Display the filtered DataFrame\n",
        "print(df_2023)\n"
      ]
    },
    {
      "cell_type": "markdown",
      "metadata": {
        "id": "hjKG1YpFYemR"
      },
      "source": [
        "# **Task 1**\n",
        "\n",
        "## **PART I**\n",
        "\n",
        "### **books bought multiple times**"
      ]
    },
    {
      "cell_type": "code",
      "execution_count": null,
      "metadata": {
        "colab": {
          "base_uri": "https://localhost:8080/"
        },
        "id": "uJ4EiTiEa9RC",
        "outputId": "303979a5-222a-4023-e308-cd040823a7f4"
      },
      "outputs": [
        {
          "output_type": "stream",
          "name": "stdout",
          "text": [
            "Books purchased multiple times:\n",
            "     book_number  purchase_count\n",
            "0              1              22\n",
            "1              2              21\n",
            "2              3               8\n",
            "3              4               4\n",
            "4              5              22\n",
            "..           ...             ...\n",
            "135          136              13\n",
            "136          137               9\n",
            "137          138              21\n",
            "138          139               8\n",
            "139          140               6\n",
            "\n",
            "[138 rows x 2 columns]\n"
          ]
        }
      ],
      "source": [
        "# Group the DataFrame by \"book_number\" and count the occurrences of each book\n",
        "book_counts = df.groupby(\"book_number\").size().reset_index(name=\"purchase_count\")\n",
        "\n",
        "# Filter the DataFrame to only include books that have been purchased more than once\n",
        "multi_purchase_books = book_counts[book_counts[\"purchase_count\"] > 1]\n",
        "\n",
        "# Display the books that have been purchased multiple times\n",
        "print(\"Books purchased multiple times:\")\n",
        "print(multi_purchase_books)\n",
        "\n",
        "\n",
        "\n"
      ]
    },
    {
      "cell_type": "markdown",
      "metadata": {
        "id": "VrNOCSLkf9eL"
      },
      "source": [
        "**Top 5 most popular books**"
      ]
    },
    {
      "cell_type": "code",
      "execution_count": null,
      "metadata": {
        "colab": {
          "base_uri": "https://localhost:8080/"
        },
        "id": "HYTFs4F9fnr6",
        "outputId": "2cdb860a-74cc-44b5-c2e5-9c6827324a13"
      },
      "outputs": [
        {
          "output_type": "stream",
          "name": "stdout",
          "text": [
            "Top 5 most sold books:\n",
            "     book_number  purchase_count\n",
            "84            85              28\n",
            "118          119              28\n",
            "37            38              28\n",
            "71            72              27\n",
            "60            61              27\n"
          ]
        }
      ],
      "source": [
        "# Sort the DataFrame by the purchase count in descending order\n",
        "book_counts_sorted = book_counts.sort_values(by=\"purchase_count\", ascending=False)\n",
        "\n",
        "# Display the top 5 most sold books\n",
        "print(\"Top 5 most sold books:\")\n",
        "print(book_counts_sorted.head(5))"
      ]
    },
    {
      "cell_type": "markdown",
      "metadata": {
        "id": "8cnci-mXnkqX"
      },
      "source": [
        "### **The 5 most popular books are:**\n",
        "```\n",
        "Book Number       Book Title                        Total bought\n",
        "1. 85       |     The Great Indian Novel           |     28\n",
        "2. 118      |     One                              |     28\n",
        "3. 37       |     The Veteran                      |     28\n",
        "4. 71       |     All The President'S Men          |     27\n",
        "5. 60       |     Data Structures Using C & C++    |     27\n",
        "```\n",
        "\n"
      ]
    },
    {
      "cell_type": "markdown",
      "metadata": {
        "id": "boHLipqOgbcz"
      },
      "source": [
        "**least popular books**"
      ]
    },
    {
      "cell_type": "code",
      "execution_count": null,
      "metadata": {
        "colab": {
          "base_uri": "https://localhost:8080/"
        },
        "id": "elWejB5vgYiP",
        "outputId": "f7f87e2e-7791-4d5b-eee1-951d5f5ceda7",
        "scrolled": true
      },
      "outputs": [
        {
          "output_type": "stream",
          "name": "stdout",
          "text": [
            "5 least popular books are:\n",
            "     book_number  purchase_count\n",
            "122          123               1\n",
            "12            13               1\n",
            "34            35               2\n",
            "56            57               2\n",
            "58            59               2\n"
          ]
        }
      ],
      "source": [
        "# Sort the DataFrame by the purchase count in descending order\n",
        "book_counts_sorted = book_counts.sort_values(by=\"purchase_count\", ascending=True)\n",
        "\n",
        "# Display the top 5 most sold books\n",
        "print(\"5 least popular books are:\")\n",
        "print(book_counts_sorted.head(5))"
      ]
    },
    {
      "cell_type": "markdown",
      "metadata": {
        "id": "BW3n0kdwnkqZ"
      },
      "source": [
        "### **The 5 least popular books are:**\n",
        "\n",
        "```\n",
        "Book Number      Book Title                         Total bought\n",
        "1. 123     |     Selected Short Stories            |     1\n",
        "2. 13      |     Birth Of A Theorem                |     1\n",
        "3. 35      |     Surely You'Re Joking Mr Feynman   |     2\n",
        "4. 57      |     Textbook Of Economic Theory       |     2\n",
        "5. 59      |     Learning Opencv                   |     2\n",
        "```\n",
        "\n"
      ]
    },
    {
      "cell_type": "markdown",
      "metadata": {
        "id": "CTgPEc6WBipr"
      },
      "source": [
        "## **PART II**"
      ]
    },
    {
      "cell_type": "markdown",
      "metadata": {
        "id": "rUeq81rlbc3G"
      },
      "source": [
        "# **book appears on the loan list in 2023.**   \n",
        "**reverse order of their popularity.**"
      ]
    },
    {
      "cell_type": "markdown",
      "metadata": {
        "id": "BrdoJpzphcNc"
      },
      "source": [
        "**all rows dislayed**"
      ]
    },
    {
      "cell_type": "code",
      "execution_count": null,
      "metadata": {
        "colab": {
          "base_uri": "https://localhost:8080/"
        },
        "id": "B1_9VaPXiopw",
        "outputId": "6cfd02da-2c86-4666-f907-64f81aa97d93",
        "scrolled": false
      },
      "outputs": [
        {
          "output_type": "stream",
          "name": "stdout",
          "text": [
            "Number of days for which each book was borrowed in 2023:\n",
            "     book_number  maximum duration of each Book rented\n",
            "0            119                                    28\n",
            "1             38                                    28\n",
            "2             85                                    28\n",
            "3             61                                    27\n",
            "4             72                                    27\n",
            "5             43                                    25\n",
            "6             51                                    25\n",
            "7            132                                    25\n",
            "8             48                                    25\n",
            "9            105                                    25\n",
            "10            66                                    25\n",
            "11            94                                    25\n",
            "12           112                                    24\n",
            "13            78                                    24\n",
            "14           134                                    24\n",
            "15           128                                    24\n",
            "16            47                                    24\n",
            "17            56                                    24\n",
            "18            92                                    24\n",
            "19            98                                    24\n",
            "20            20                                    24\n",
            "21            39                                    24\n",
            "22            37                                    24\n",
            "23           114                                    24\n",
            "24            83                                    24\n",
            "25            87                                    23\n",
            "26            63                                    23\n",
            "27            54                                    23\n",
            "28            79                                    23\n",
            "29           104                                    23\n",
            "30            89                                    23\n",
            "31            88                                    23\n",
            "32            36                                    23\n",
            "33            58                                    23\n",
            "34           106                                    23\n",
            "35           103                                    23\n",
            "36           107                                    23\n",
            "37           126                                    22\n",
            "38           100                                    22\n",
            "39           116                                    22\n",
            "40            99                                    22\n",
            "41            31                                    22\n",
            "42             5                                    22\n",
            "43             1                                    22\n",
            "44           111                                    22\n",
            "45             7                                    22\n",
            "46            12                                    22\n",
            "47             2                                    21\n",
            "48            60                                    21\n",
            "49           138                                    21\n",
            "50           120                                    21\n",
            "51            62                                    21\n",
            "52            22                                    21\n",
            "53            21                                    21\n",
            "54            32                                    21\n",
            "55           131                                    21\n",
            "56            30                                    20\n",
            "57            93                                    20\n",
            "58            49                                    20\n",
            "59            91                                    20\n",
            "60            53                                    20\n",
            "61            11                                    20\n",
            "62            41                                    20\n",
            "63            15                                    20\n",
            "64            24                                    20\n",
            "65            65                                    19\n",
            "66           110                                    19\n",
            "67           122                                    19\n",
            "68           117                                    19\n",
            "69             6                                    18\n",
            "70            27                                    18\n",
            "71            16                                    18\n",
            "72            17                                    18\n",
            "73            14                                    18\n",
            "74            75                                    17\n",
            "75           109                                    17\n",
            "76            84                                    17\n",
            "77            76                                    17\n",
            "78            10                                    16\n",
            "79            55                                    16\n",
            "80            90                                    16\n",
            "81            80                                    15\n",
            "82            33                                    15\n",
            "83             8                                    15\n",
            "84           115                                    15\n",
            "85           129                                    15\n",
            "86            23                                    14\n",
            "87           136                                    13\n",
            "88            19                                    13\n",
            "89            82                                    12\n",
            "90            81                                    12\n",
            "91           102                                    12\n",
            "92            95                                    12\n",
            "93            25                                    11\n",
            "94            45                                    11\n",
            "95            64                                    11\n",
            "96           133                                    11\n",
            "97           130                                    11\n",
            "98            26                                    11\n",
            "99            34                                    10\n",
            "100          137                                     9\n",
            "101            9                                     9\n",
            "102            3                                     8\n",
            "103          139                                     8\n",
            "104           28                                     8\n",
            "105           68                                     8\n",
            "106           97                                     7\n",
            "107           52                                     7\n",
            "108           96                                     7\n",
            "109          124                                     7\n",
            "110           29                                     7\n",
            "111           70                                     7\n",
            "112           46                                     7\n",
            "113           69                                     7\n",
            "114          101                                     6\n",
            "115          140                                     6\n",
            "116           73                                     6\n",
            "117          135                                     6\n",
            "118           77                                     5\n",
            "119           44                                     5\n",
            "120           42                                     5\n",
            "121           50                                     5\n",
            "122          127                                     4\n",
            "123           18                                     4\n",
            "124            4                                     4\n",
            "125           74                                     4\n",
            "126           86                                     4\n",
            "127           40                                     3\n",
            "128          118                                     3\n",
            "129          113                                     3\n",
            "130           71                                     3\n",
            "131          125                                     2\n",
            "132           57                                     2\n",
            "133           59                                     2\n",
            "134           35                                     2\n",
            "135          108                                     2\n",
            "136           67                                     2\n",
            "137          121                                     2\n",
            "138          123                                     1\n",
            "139           13                                     1\n"
          ]
        }
      ],
      "source": [
        "import pandas as pd\n",
        "import datetime\n",
        "\n",
        "# Function to convert Excel date to 'YYYY-MM-DD' format\n",
        "def excel_to_date(excel_date: int) -> str:\n",
        "    excel_epoch_start = datetime.datetime(1899, 12, 30)\n",
        "    py_date = excel_epoch_start + datetime.timedelta(days=excel_date)\n",
        "    return py_date.strftime('%Y-%m-%d')\n",
        "\n",
        "# Define header names for loans DataFrame\n",
        "header_names = [\"book_number\", \"member_number\", \"date_of_loan\" ,\"date_of_return\"]\n",
        "\n",
        "# Read the loans CSV file with the specified header names\n",
        "df_loans = pd.read_csv(\"/content/bookloans (1).csv\", header=None, names=header_names)\n",
        "\n",
        "# Convert Excel dates to 'YYYY-MM-DD' format\n",
        "df_loans[\"date_of_loan\"] = df_loans[\"date_of_loan\"].apply(excel_to_date)\n",
        "df_loans[\"date_of_return\"] = df_loans[\"date_of_return\"].apply(excel_to_date)\n",
        "\n",
        "# Filter loans DataFrame to keep only rows from the year 2023\n",
        "df_loans_2023 = df_loans[(df_loans[\"date_of_loan\"] >= \"2023-01-01\") & (df_loans[\"date_of_loan\"] <= \"2023-12-31\")]\n",
        "\n",
        "# Count the number of times each book is borrowed in 2023\n",
        "books_borrowed_2023 = df_loans_2023[\"book_number\"].value_counts().reset_index()\n",
        "books_borrowed_2023.columns = [\"book_number\", \"maximum duration of each Book rented\"]\n",
        "\n",
        "# Set display options to show all rows\n",
        "pd.set_option('display.max_rows', None)\n",
        "\n",
        "print(\"Number of days for which each book was borrowed in 2023:\")\n",
        "# Display the count of borrowings for each book in 2023\n",
        "print(books_borrowed_2023)\n"
      ]
    },
    {
      "cell_type": "markdown",
      "metadata": {
        "id": "IggFyAeunkqc"
      },
      "source": [
        "In 2023, the library counted how many times each book was borrowed to see which ones were popular among readers. This helps the library decide which books to keep based on how often they are checked out, showing which ones people enjoy and find valuable."
      ]
    },
    {
      "cell_type": "markdown",
      "metadata": {
        "id": "7wR-uErTdmww"
      },
      "source": [
        "# **Task 2**\n",
        "###**Types of Genres and movies related to each Genre**"
      ]
    },
    {
      "cell_type": "code",
      "execution_count": null,
      "metadata": {
        "colab": {
          "base_uri": "https://localhost:8080/",
          "height": 224
        },
        "id": "WQFhoGm909Ek",
        "outputId": "f392d00b-fdd1-4b59-874e-4823fe4094b3",
        "scrolled": false
      },
      "outputs": [
        {
          "name": "stdout",
          "output_type": "stream",
          "text": [
            "popularity report of all genres of books in 2023\n"
          ]
        },
        {
          "data": {
            "application/vnd.google.colaboratory.intrinsic+json": {
              "summary": "{\n  \"name\": \"sorted_genre_counts\",\n  \"rows\": 5,\n  \"fields\": [\n    {\n      \"column\": \"Genre\",\n      \"properties\": {\n        \"dtype\": \"string\",\n        \"num_unique_values\": 5,\n        \"samples\": [\n          \"Non-fiction\",\n          \"Philosophy\",\n          \"Tech\"\n        ],\n        \"semantic_type\": \"\",\n        \"description\": \"\"\n      }\n    },\n    {\n      \"column\": \"Number of Books\",\n      \"properties\": {\n        \"dtype\": \"number\",\n        \"std\": 267,\n        \"min\": 101,\n        \"max\": 717,\n        \"num_unique_values\": 5,\n        \"samples\": [\n          591,\n          101,\n          396\n        ],\n        \"semantic_type\": \"\",\n        \"description\": \"\"\n      }\n    }\n  ]\n}",
              "type": "dataframe",
              "variable_name": "sorted_genre_counts"
            },
            "text/html": [
              "\n",
              "  <div id=\"df-8ef25af2-6bfa-4672-af2d-25afd5ff2f79\" class=\"colab-df-container\">\n",
              "    <div>\n",
              "<style scoped>\n",
              "    .dataframe tbody tr th:only-of-type {\n",
              "        vertical-align: middle;\n",
              "    }\n",
              "\n",
              "    .dataframe tbody tr th {\n",
              "        vertical-align: top;\n",
              "    }\n",
              "\n",
              "    .dataframe thead th {\n",
              "        text-align: right;\n",
              "    }\n",
              "</style>\n",
              "<table border=\"1\" class=\"dataframe\">\n",
              "  <thead>\n",
              "    <tr style=\"text-align: right;\">\n",
              "      <th></th>\n",
              "      <th>Genre</th>\n",
              "      <th>Number of Books</th>\n",
              "    </tr>\n",
              "  </thead>\n",
              "  <tbody>\n",
              "    <tr>\n",
              "      <th>0</th>\n",
              "      <td>Fiction</td>\n",
              "      <td>717</td>\n",
              "    </tr>\n",
              "    <tr>\n",
              "      <th>1</th>\n",
              "      <td>Non-fiction</td>\n",
              "      <td>591</td>\n",
              "    </tr>\n",
              "    <tr>\n",
              "      <th>2</th>\n",
              "      <td>Tech</td>\n",
              "      <td>396</td>\n",
              "    </tr>\n",
              "    <tr>\n",
              "      <th>3</th>\n",
              "      <td>Science</td>\n",
              "      <td>153</td>\n",
              "    </tr>\n",
              "    <tr>\n",
              "      <th>4</th>\n",
              "      <td>Philosophy</td>\n",
              "      <td>101</td>\n",
              "    </tr>\n",
              "  </tbody>\n",
              "</table>\n",
              "</div>\n",
              "    <div class=\"colab-df-buttons\">\n",
              "\n",
              "  <div class=\"colab-df-container\">\n",
              "    <button class=\"colab-df-convert\" onclick=\"convertToInteractive('df-8ef25af2-6bfa-4672-af2d-25afd5ff2f79')\"\n",
              "            title=\"Convert this dataframe to an interactive table.\"\n",
              "            style=\"display:none;\">\n",
              "\n",
              "  <svg xmlns=\"http://www.w3.org/2000/svg\" height=\"24px\" viewBox=\"0 -960 960 960\">\n",
              "    <path d=\"M120-120v-720h720v720H120Zm60-500h600v-160H180v160Zm220 220h160v-160H400v160Zm0 220h160v-160H400v160ZM180-400h160v-160H180v160Zm440 0h160v-160H620v160ZM180-180h160v-160H180v160Zm440 0h160v-160H620v160Z\"/>\n",
              "  </svg>\n",
              "    </button>\n",
              "\n",
              "  <style>\n",
              "    .colab-df-container {\n",
              "      display:flex;\n",
              "      gap: 12px;\n",
              "    }\n",
              "\n",
              "    .colab-df-convert {\n",
              "      background-color: #E8F0FE;\n",
              "      border: none;\n",
              "      border-radius: 50%;\n",
              "      cursor: pointer;\n",
              "      display: none;\n",
              "      fill: #1967D2;\n",
              "      height: 32px;\n",
              "      padding: 0 0 0 0;\n",
              "      width: 32px;\n",
              "    }\n",
              "\n",
              "    .colab-df-convert:hover {\n",
              "      background-color: #E2EBFA;\n",
              "      box-shadow: 0px 1px 2px rgba(60, 64, 67, 0.3), 0px 1px 3px 1px rgba(60, 64, 67, 0.15);\n",
              "      fill: #174EA6;\n",
              "    }\n",
              "\n",
              "    .colab-df-buttons div {\n",
              "      margin-bottom: 4px;\n",
              "    }\n",
              "\n",
              "    [theme=dark] .colab-df-convert {\n",
              "      background-color: #3B4455;\n",
              "      fill: #D2E3FC;\n",
              "    }\n",
              "\n",
              "    [theme=dark] .colab-df-convert:hover {\n",
              "      background-color: #434B5C;\n",
              "      box-shadow: 0px 1px 3px 1px rgba(0, 0, 0, 0.15);\n",
              "      filter: drop-shadow(0px 1px 2px rgba(0, 0, 0, 0.3));\n",
              "      fill: #FFFFFF;\n",
              "    }\n",
              "  </style>\n",
              "\n",
              "    <script>\n",
              "      const buttonEl =\n",
              "        document.querySelector('#df-8ef25af2-6bfa-4672-af2d-25afd5ff2f79 button.colab-df-convert');\n",
              "      buttonEl.style.display =\n",
              "        google.colab.kernel.accessAllowed ? 'block' : 'none';\n",
              "\n",
              "      async function convertToInteractive(key) {\n",
              "        const element = document.querySelector('#df-8ef25af2-6bfa-4672-af2d-25afd5ff2f79');\n",
              "        const dataTable =\n",
              "          await google.colab.kernel.invokeFunction('convertToInteractive',\n",
              "                                                    [key], {});\n",
              "        if (!dataTable) return;\n",
              "\n",
              "        const docLinkHtml = 'Like what you see? Visit the ' +\n",
              "          '<a target=\"_blank\" href=https://colab.research.google.com/notebooks/data_table.ipynb>data table notebook</a>'\n",
              "          + ' to learn more about interactive tables.';\n",
              "        element.innerHTML = '';\n",
              "        dataTable['output_type'] = 'display_data';\n",
              "        await google.colab.output.renderOutput(dataTable, element);\n",
              "        const docLink = document.createElement('div');\n",
              "        docLink.innerHTML = docLinkHtml;\n",
              "        element.appendChild(docLink);\n",
              "      }\n",
              "    </script>\n",
              "  </div>\n",
              "\n",
              "\n",
              "<div id=\"df-8c18e2b4-8f5f-434c-a524-10f7d73f53ee\">\n",
              "  <button class=\"colab-df-quickchart\" onclick=\"quickchart('df-8c18e2b4-8f5f-434c-a524-10f7d73f53ee')\"\n",
              "            title=\"Suggest charts\"\n",
              "            style=\"display:none;\">\n",
              "\n",
              "<svg xmlns=\"http://www.w3.org/2000/svg\" height=\"24px\"viewBox=\"0 0 24 24\"\n",
              "     width=\"24px\">\n",
              "    <g>\n",
              "        <path d=\"M19 3H5c-1.1 0-2 .9-2 2v14c0 1.1.9 2 2 2h14c1.1 0 2-.9 2-2V5c0-1.1-.9-2-2-2zM9 17H7v-7h2v7zm4 0h-2V7h2v10zm4 0h-2v-4h2v4z\"/>\n",
              "    </g>\n",
              "</svg>\n",
              "  </button>\n",
              "\n",
              "<style>\n",
              "  .colab-df-quickchart {\n",
              "      --bg-color: #E8F0FE;\n",
              "      --fill-color: #1967D2;\n",
              "      --hover-bg-color: #E2EBFA;\n",
              "      --hover-fill-color: #174EA6;\n",
              "      --disabled-fill-color: #AAA;\n",
              "      --disabled-bg-color: #DDD;\n",
              "  }\n",
              "\n",
              "  [theme=dark] .colab-df-quickchart {\n",
              "      --bg-color: #3B4455;\n",
              "      --fill-color: #D2E3FC;\n",
              "      --hover-bg-color: #434B5C;\n",
              "      --hover-fill-color: #FFFFFF;\n",
              "      --disabled-bg-color: #3B4455;\n",
              "      --disabled-fill-color: #666;\n",
              "  }\n",
              "\n",
              "  .colab-df-quickchart {\n",
              "    background-color: var(--bg-color);\n",
              "    border: none;\n",
              "    border-radius: 50%;\n",
              "    cursor: pointer;\n",
              "    display: none;\n",
              "    fill: var(--fill-color);\n",
              "    height: 32px;\n",
              "    padding: 0;\n",
              "    width: 32px;\n",
              "  }\n",
              "\n",
              "  .colab-df-quickchart:hover {\n",
              "    background-color: var(--hover-bg-color);\n",
              "    box-shadow: 0 1px 2px rgba(60, 64, 67, 0.3), 0 1px 3px 1px rgba(60, 64, 67, 0.15);\n",
              "    fill: var(--button-hover-fill-color);\n",
              "  }\n",
              "\n",
              "  .colab-df-quickchart-complete:disabled,\n",
              "  .colab-df-quickchart-complete:disabled:hover {\n",
              "    background-color: var(--disabled-bg-color);\n",
              "    fill: var(--disabled-fill-color);\n",
              "    box-shadow: none;\n",
              "  }\n",
              "\n",
              "  .colab-df-spinner {\n",
              "    border: 2px solid var(--fill-color);\n",
              "    border-color: transparent;\n",
              "    border-bottom-color: var(--fill-color);\n",
              "    animation:\n",
              "      spin 1s steps(1) infinite;\n",
              "  }\n",
              "\n",
              "  @keyframes spin {\n",
              "    0% {\n",
              "      border-color: transparent;\n",
              "      border-bottom-color: var(--fill-color);\n",
              "      border-left-color: var(--fill-color);\n",
              "    }\n",
              "    20% {\n",
              "      border-color: transparent;\n",
              "      border-left-color: var(--fill-color);\n",
              "      border-top-color: var(--fill-color);\n",
              "    }\n",
              "    30% {\n",
              "      border-color: transparent;\n",
              "      border-left-color: var(--fill-color);\n",
              "      border-top-color: var(--fill-color);\n",
              "      border-right-color: var(--fill-color);\n",
              "    }\n",
              "    40% {\n",
              "      border-color: transparent;\n",
              "      border-right-color: var(--fill-color);\n",
              "      border-top-color: var(--fill-color);\n",
              "    }\n",
              "    60% {\n",
              "      border-color: transparent;\n",
              "      border-right-color: var(--fill-color);\n",
              "    }\n",
              "    80% {\n",
              "      border-color: transparent;\n",
              "      border-right-color: var(--fill-color);\n",
              "      border-bottom-color: var(--fill-color);\n",
              "    }\n",
              "    90% {\n",
              "      border-color: transparent;\n",
              "      border-bottom-color: var(--fill-color);\n",
              "    }\n",
              "  }\n",
              "</style>\n",
              "\n",
              "  <script>\n",
              "    async function quickchart(key) {\n",
              "      const quickchartButtonEl =\n",
              "        document.querySelector('#' + key + ' button');\n",
              "      quickchartButtonEl.disabled = true;  // To prevent multiple clicks.\n",
              "      quickchartButtonEl.classList.add('colab-df-spinner');\n",
              "      try {\n",
              "        const charts = await google.colab.kernel.invokeFunction(\n",
              "            'suggestCharts', [key], {});\n",
              "      } catch (error) {\n",
              "        console.error('Error during call to suggestCharts:', error);\n",
              "      }\n",
              "      quickchartButtonEl.classList.remove('colab-df-spinner');\n",
              "      quickchartButtonEl.classList.add('colab-df-quickchart-complete');\n",
              "    }\n",
              "    (() => {\n",
              "      let quickchartButtonEl =\n",
              "        document.querySelector('#df-8c18e2b4-8f5f-434c-a524-10f7d73f53ee button');\n",
              "      quickchartButtonEl.style.display =\n",
              "        google.colab.kernel.accessAllowed ? 'block' : 'none';\n",
              "    })();\n",
              "  </script>\n",
              "</div>\n",
              "\n",
              "  <div id=\"id_5077eb8c-9129-4fe7-a461-79ce3688cf17\">\n",
              "    <style>\n",
              "      .colab-df-generate {\n",
              "        background-color: #E8F0FE;\n",
              "        border: none;\n",
              "        border-radius: 50%;\n",
              "        cursor: pointer;\n",
              "        display: none;\n",
              "        fill: #1967D2;\n",
              "        height: 32px;\n",
              "        padding: 0 0 0 0;\n",
              "        width: 32px;\n",
              "      }\n",
              "\n",
              "      .colab-df-generate:hover {\n",
              "        background-color: #E2EBFA;\n",
              "        box-shadow: 0px 1px 2px rgba(60, 64, 67, 0.3), 0px 1px 3px 1px rgba(60, 64, 67, 0.15);\n",
              "        fill: #174EA6;\n",
              "      }\n",
              "\n",
              "      [theme=dark] .colab-df-generate {\n",
              "        background-color: #3B4455;\n",
              "        fill: #D2E3FC;\n",
              "      }\n",
              "\n",
              "      [theme=dark] .colab-df-generate:hover {\n",
              "        background-color: #434B5C;\n",
              "        box-shadow: 0px 1px 3px 1px rgba(0, 0, 0, 0.15);\n",
              "        filter: drop-shadow(0px 1px 2px rgba(0, 0, 0, 0.3));\n",
              "        fill: #FFFFFF;\n",
              "      }\n",
              "    </style>\n",
              "    <button class=\"colab-df-generate\" onclick=\"generateWithVariable('sorted_genre_counts')\"\n",
              "            title=\"Generate code using this dataframe.\"\n",
              "            style=\"display:none;\">\n",
              "\n",
              "  <svg xmlns=\"http://www.w3.org/2000/svg\" height=\"24px\"viewBox=\"0 0 24 24\"\n",
              "       width=\"24px\">\n",
              "    <path d=\"M7,19H8.4L18.45,9,17,7.55,7,17.6ZM5,21V16.75L18.45,3.32a2,2,0,0,1,2.83,0l1.4,1.43a1.91,1.91,0,0,1,.58,1.4,1.91,1.91,0,0,1-.58,1.4L9.25,21ZM18.45,9,17,7.55Zm-12,3A5.31,5.31,0,0,0,4.9,8.1,5.31,5.31,0,0,0,1,6.5,5.31,5.31,0,0,0,4.9,4.9,5.31,5.31,0,0,0,6.5,1,5.31,5.31,0,0,0,8.1,4.9,5.31,5.31,0,0,0,12,6.5,5.46,5.46,0,0,0,6.5,12Z\"/>\n",
              "  </svg>\n",
              "    </button>\n",
              "    <script>\n",
              "      (() => {\n",
              "      const buttonEl =\n",
              "        document.querySelector('#id_5077eb8c-9129-4fe7-a461-79ce3688cf17 button.colab-df-generate');\n",
              "      buttonEl.style.display =\n",
              "        google.colab.kernel.accessAllowed ? 'block' : 'none';\n",
              "\n",
              "      buttonEl.onclick = () => {\n",
              "        google.colab.notebook.generateWithVariable('sorted_genre_counts');\n",
              "      }\n",
              "      })();\n",
              "    </script>\n",
              "  </div>\n",
              "\n",
              "    </div>\n",
              "  </div>\n"
            ],
            "text/plain": [
              "         Genre  Number of Books\n",
              "0      Fiction              717\n",
              "1  Non-fiction              591\n",
              "2         Tech              396\n",
              "3      Science              153\n",
              "4   Philosophy              101"
            ]
          },
          "execution_count": 60,
          "metadata": {},
          "output_type": "execute_result"
        }
      ],
      "source": [
        "import pandas as pd\n",
        "import datetime\n",
        "\n",
        "# Define header names for the book loans data\n",
        "header_names = [\"book_number\", \"member_number\", \"date_of_loan\", \"date_of_return\"]\n",
        "\n",
        "# Load the datasets\n",
        "updated_book_loans_path = '/content/bookloans (1).csv'\n",
        "updated_books_path = '/content/books (1).csv'\n",
        "\n",
        "# Read the book loans data with headers\n",
        "updated_book_loans = pd.read_csv(updated_book_loans_path, header=None, names=header_names)\n",
        "\n",
        "# Read the books data\n",
        "updated_books = pd.read_csv(updated_books_path)\n",
        "\n",
        "# Define the function to convert Excel serial date to year\n",
        "def serial_date_to_string(s):\n",
        "    excel_epoch = datetime.datetime(1899, 12, 30)  # Adjustment for Excel's leap year bug\n",
        "    delta = datetime.timedelta(days=s)\n",
        "    return (excel_epoch + delta).year\n",
        "\n",
        "# Apply conversion to date_of_loan column to filter for 2023\n",
        "updated_book_loans['year_of_loan'] = updated_book_loans['date_of_loan'].apply(serial_date_to_string)\n",
        "\n",
        "# Filter for the year 2023\n",
        "loans_2023 = updated_book_loans[updated_book_loans['year_of_loan'] == 2023]\n",
        "\n",
        "# Join the filtered loan data with the books data\n",
        "loans_with_genre = loans_2023.merge(updated_books, left_on='book_number', right_on='Number')\n",
        "\n",
        "# Count occurrences of each genre\n",
        "genre_counts = loans_with_genre['Genre'].value_counts().reset_index()\n",
        "genre_counts.columns = ['Genre', 'Number of Books']\n",
        "\n",
        "# Sort by count in descending order\n",
        "sorted_genre_counts = genre_counts.sort_values(by='Number of Books', ascending=False)\n",
        "\n",
        "print(\"popularity report of all genres of books in 2023\")\n",
        "sorted_genre_counts\n"
      ]
    },
    {
      "cell_type": "markdown",
      "metadata": {
        "id": "d9yoSHC8nkqe"
      },
      "source": [
        "The  cell displays the categories in the library long with the total numbers of books within each category."
      ]
    },
    {
      "cell_type": "markdown",
      "metadata": {
        "id": "Klu14pcr8CtL"
      },
      "source": [
        "# **Task 3**\n",
        "### **Statistics on loans and late loans are lost.**"
      ]
    },
    {
      "cell_type": "markdown",
      "metadata": {
        "id": "RKz_X2EGTTLh"
      },
      "source": [
        " *• Number of loans.*\n",
        "\n",
        "*• Number of days borrowed.*\n",
        "\n",
        "*• Number of loans returned late.*\n",
        "\n",
        "*• Number days late.*"
      ]
    },
    {
      "cell_type": "code",
      "execution_count": null,
      "metadata": {
        "colab": {
          "base_uri": "https://localhost:8080/"
        },
        "id": "p2zPAwdAZ6rs",
        "outputId": "05159fc1-69b2-437a-face-e651d64356d7",
        "scrolled": false
      },
      "outputs": [
        {
          "name": "stdout",
          "output_type": "stream",
          "text": [
            "\u001b[1mTotal number of loans:\u001b[0m          |  2209\n",
            "\u001b[1mTotal number of days borrowed:\u001b[0m  |  22135\n",
            "\u001b[1mTotal loans returned late:\u001b[0m      |  613\n",
            "\u001b[1mTotal days late:\u001b[0m                |  2144\n"
          ]
        }
      ],
      "source": [
        "import pandas as pd\n",
        "import datetime\n",
        "\n",
        "# Define your header names as a list\n",
        "header_names = [\"book_number\", \"member_number\", \"date_of_loan\", \"date_of_return\"]\n",
        "\n",
        "# Read the CSV file with the specified header names\n",
        "updated_book_loans = pd.read_csv('/content/bookloans (1).csv', header=None, names=header_names)\n",
        "\n",
        "# Define the function to convert Excel serial date to datetime\n",
        "def serial_date_to_datetime(s):\n",
        "    excel_epoch = datetime.datetime(1899, 12, 30)  # Adjustment for Excel's leap year bug\n",
        "    delta = datetime.timedelta(days=s)\n",
        "    return excel_epoch + delta\n",
        "\n",
        "# Apply conversion to the loan and return dates\n",
        "updated_book_loans['date_of_loan'] = updated_book_loans['date_of_loan'].apply(serial_date_to_datetime)\n",
        "updated_book_loans['date_of_return'] = updated_book_loans['date_of_return'].apply(serial_date_to_datetime)\n",
        "\n",
        "# Calculate total number of loans\n",
        "total_loans = len(updated_book_loans)\n",
        "\n",
        "# Calculate total number of days borrowed, ensure no negative days are counted\n",
        "updated_book_loans['days_borrowed'] = (updated_book_loans['date_of_return'] - updated_book_loans['date_of_loan']).dt.days\n",
        "updated_book_loans['days_borrowed'] = updated_book_loans['days_borrowed'].apply(lambda x: max(x, 0))\n",
        "total_days_borrowed = updated_book_loans['days_borrowed'].sum()\n",
        "\n",
        "# Calculate number of loans returned late\n",
        "updated_book_loans['is_late'] = updated_book_loans['days_borrowed'] > 14\n",
        "total_books_returned_late = updated_book_loans['is_late'].sum()\n",
        "\n",
        "# Calculate total days late\n",
        "updated_book_loans['days_late'] = updated_book_loans['days_borrowed'] - 14\n",
        "updated_book_loans['days_late'] = updated_book_loans['days_late'].apply(lambda x: x if x > 0 else 0)\n",
        "total_days_late = updated_book_loans['days_late'].sum()\n",
        "\n",
        "# Output the results\n",
        "print(\"\\033[1mTotal number of loans:\\033[0m\" +\"          |  \"+ str(total_loans))\n",
        "print(\"\\033[1mTotal number of days borrowed:\\033[0m\"+\"  |  \"+ str(total_days_borrowed))\n",
        "print(\"\\033[1mTotal loans returned late:\\033[0m\" +\"      |  \"+ str(total_books_returned_late))\n",
        "print(\"\\033[1mTotal days late:\\033[0m\" +\"                |  \"+ str(total_days_late))\n",
        "\n"
      ]
    },
    {
      "cell_type": "markdown",
      "metadata": {
        "id": "qasOvr4Hnkqg"
      },
      "source": [
        "The calculations show that in total, there were 2,209 loans made from the library, Gather to 22,135 days borrowed. Among these, 613 loans were returned late, resulting in a total of 2,144 days overdue."
      ]
    },
    {
      "cell_type": "markdown",
      "metadata": {
        "id": "0FBUnoiZadO7"
      },
      "source": [
        "## **a) The average number of days that a book was borrowed.**\n",
        "\n",
        "### ***calculating the average number of days a book was borrowed across all loans, rather than for each individual book.***"
      ]
    },
    {
      "cell_type": "code",
      "execution_count": null,
      "metadata": {
        "colab": {
          "base_uri": "https://localhost:8080/"
        },
        "id": "zJeS46Emb6mW",
        "outputId": "37741f0c-405d-47f7-8114-21fa7c35f4e3"
      },
      "outputs": [
        {
          "name": "stdout",
          "output_type": "stream",
          "text": [
            "\u001b[1mAverage days a book was borrowed:\u001b[0m 10.020371208691715\n"
          ]
        }
      ],
      "source": [
        "import pandas as pd\n",
        "import datetime\n",
        "\n",
        "# Define your header names as a list\n",
        "header_names = [\"book_number\", \"member_number\", \"date_of_loan\", \"date_of_return\"]\n",
        "\n",
        "# Read the CSV file with the specified header names\n",
        "updated_book_loans = pd.read_csv('/content/bookloans (1).csv', header=None, names=header_names)\n",
        "\n",
        "# Define the function to convert Excel serial date to datetime\n",
        "def serial_date_to_datetime(s):\n",
        "    excel_epoch = datetime.datetime(1899, 12, 30)  # Adjustment for Excel's leap year bug\n",
        "    delta = datetime.timedelta(days=s)\n",
        "    return excel_epoch + delta\n",
        "\n",
        "# Apply conversion to the loan and return dates\n",
        "updated_book_loans['date_of_loan'] = updated_book_loans['date_of_loan'].apply(serial_date_to_datetime)\n",
        "updated_book_loans['date_of_return'] = updated_book_loans['date_of_return'].apply(serial_date_to_datetime)\n",
        "\n",
        "# Calculate total number of loans\n",
        "total_loans = len(updated_book_loans)\n",
        "\n",
        "# Calculate total number of days borrowed, ensure no negative days are counted\n",
        "updated_book_loans['days_borrowed'] = (updated_book_loans['date_of_return'] - updated_book_loans['date_of_loan']).dt.days\n",
        "updated_book_loans['days_borrowed'] = updated_book_loans['days_borrowed'].apply(lambda x: max(x, 0))\n",
        "total_days_borrowed = updated_book_loans['days_borrowed'].sum()\n",
        "\n",
        "# Calculate the average number of days a book was borrowed\n",
        "average_days_borrowed = total_days_borrowed / total_loans if total_loans > 0 else 0\n",
        "\n",
        "# Output the results\n",
        "print(\"\\033[1mAverage days a book was borrowed:\\033[0m\" ,average_days_borrowed)\n"
      ]
    },
    {
      "cell_type": "markdown",
      "metadata": {
        "id": "aNRD-LMznkqi"
      },
      "source": [
        "it shows How many days a each book have been minimum borrowed and it shows the average of duration of all books in library."
      ]
    },
    {
      "cell_type": "markdown",
      "metadata": {
        "id": "zFQ2vZIWdQWL"
      },
      "source": [
        "## **b) The percentage proportion of books returned late.**\n",
        "\n",
        "### ***Count of all loan transactions. Computes the days each book was borrowed. Determines if the loan was returned late by checking if days_borrowed is greater than 14. Calculates the proportion of late returns relative to the total number of loans and formats it as a percentage.***"
      ]
    },
    {
      "cell_type": "code",
      "execution_count": null,
      "metadata": {
        "colab": {
          "base_uri": "https://localhost:8080/"
        },
        "id": "Cn0cck5DdSwk",
        "outputId": "4b0c8f96-0f24-4bb9-a915-e7bee3b6156a",
        "scrolled": true
      },
      "outputs": [
        {
          "name": "stdout",
          "output_type": "stream",
          "text": [
            "\u001b[1mPercentage of books returned late:\u001b[0m  27.75%\n"
          ]
        }
      ],
      "source": [
        "import pandas as pd\n",
        "import datetime\n",
        "\n",
        "# Define your header names as a list\n",
        "header_names = [\"book_number\", \"member_number\", \"date_of_loan\", \"date_of_return\"]\n",
        "\n",
        "# Read the CSV file with the specified header names\n",
        "updated_book_loans = pd.read_csv('/content/bookloans (1).csv', header=None, names=header_names)\n",
        "\n",
        "# Define the function to convert Excel serial date to datetime\n",
        "def serial_date_to_datetime(s):\n",
        "    excel_epoch = datetime.datetime(1899, 12, 30)  # Adjustment for Excel's leap year bug\n",
        "    delta = datetime.timedelta(days=s)\n",
        "    return excel_epoch + delta\n",
        "\n",
        "# Apply conversion to the loan and return dates\n",
        "updated_book_loans['date_of_loan'] = updated_book_loans['date_of_loan'].apply(serial_date_to_datetime)\n",
        "updated_book_loans['date_of_return'] = updated_book_loans['date_of_return'].apply(serial_date_to_datetime)\n",
        "\n",
        "# Calculate total number of loans\n",
        "total_loans = len(updated_book_loans)\n",
        "\n",
        "# Calculate total number of days borrowed, ensure no negative days are counted\n",
        "updated_book_loans['days_borrowed'] = (updated_book_loans['date_of_return'] - updated_book_loans['date_of_loan']).dt.days\n",
        "updated_book_loans['days_borrowed'] = updated_book_loans['days_borrowed'].apply(lambda x: max(x, 0))\n",
        "\n",
        "# Calculate number of loans returned late\n",
        "updated_book_loans['is_late'] = updated_book_loans['days_borrowed'] > 14\n",
        "total_books_returned_late = updated_book_loans['is_late'].sum()\n",
        "\n",
        "# Calculate the percentage proportion of books returned late\n",
        "percentage_late = (total_books_returned_late / total_loans * 100) if total_loans > 0 else 0\n",
        "\n",
        "# Output the result\n",
        "print(\"\\033[1mPercentage of books returned late:\\033[0m\"   f\"  {percentage_late:.2f}%\")\n"
      ]
    },
    {
      "cell_type": "markdown",
      "metadata": {
        "id": "L2mec6vmnkql"
      },
      "source": [
        "The result shows in average percentage that from library how many books are returned late. The 27.75% books from total books are returned late in library."
      ]
    },
    {
      "cell_type": "markdown",
      "metadata": {
        "id": "XXsSCweffUyc"
      },
      "source": [
        "## **c) The average late period of books returned late.**\n",
        "\n",
        "### ***calculate the average late period of books returned late. determine how many days late each book was, and then calculate the average of these days.***"
      ]
    },
    {
      "cell_type": "code",
      "execution_count": null,
      "metadata": {
        "colab": {
          "base_uri": "https://localhost:8080/"
        },
        "id": "UaGen7A9gGM1",
        "outputId": "997335c9-17fa-4124-f41d-cbad434115b7",
        "scrolled": true
      },
      "outputs": [
        {
          "name": "stdout",
          "output_type": "stream",
          "text": [
            " \u001b[1mbooks returned late:\u001b[0m  613\n",
            " \u001b[1mAverage:\u001b[0m              3.5\n"
          ]
        }
      ],
      "source": [
        "import pandas as pd\n",
        "import datetime\n",
        "\n",
        "# Define your header names as a list\n",
        "header_names = [\"book_number\", \"member_number\", \"date_of_loan\", \"date_of_return\"]\n",
        "\n",
        "# Read the CSV file with the specified header names\n",
        "updated_book_loans = pd.read_csv('/content/bookloans (1).csv', header=None, names=header_names)\n",
        "\n",
        "# Define the function to convert Excel serial date to datetime\n",
        "def serial_date_to_datetime(s):\n",
        "    excel_epoch = datetime.datetime(1899, 12, 30)  # Adjustment for Excel's leap year bug\n",
        "    delta = datetime.timedelta(days=s)\n",
        "    return excel_epoch + delta\n",
        "\n",
        "# Apply conversion to the loan and return dates\n",
        "updated_book_loans['date_of_loan'] = updated_book_loans['date_of_loan'].apply(serial_date_to_datetime)\n",
        "updated_book_loans['date_of_return'] = updated_book_loans['date_of_return'].apply(serial_date_to_datetime)\n",
        "\n",
        "# Calculate total number of loans\n",
        "total_loans = len(updated_book_loans)\n",
        "\n",
        "# Calculate total number of days borrowed, ensure no negative days are counted\n",
        "updated_book_loans['days_borrowed'] = (updated_book_loans['date_of_return'] - updated_book_loans['date_of_loan']).dt.days\n",
        "updated_book_loans['days_borrowed'] = updated_book_loans['days_borrowed'].apply(lambda x: max(x, 0))\n",
        "\n",
        "# Calculate number of loans returned late\n",
        "updated_book_loans['days_late'] = updated_book_loans['days_borrowed'] - 14\n",
        "updated_book_loans['days_late'] = updated_book_loans['days_late'].apply(lambda x: x if x > 0 else 0)\n",
        "total_days_late = updated_book_loans['days_late'].sum()\n",
        "\n",
        "# Calculate total number of late returns\n",
        "updated_book_loans['is_late'] = updated_book_loans['days_late'] > 0\n",
        "total_books_returned_late = updated_book_loans['is_late'].sum()\n",
        "\n",
        "# Calculate the average late period of books returned late\n",
        "average_late_days = (total_days_late / total_books_returned_late) if total_books_returned_late > 0 else 0\n",
        "\n",
        "# Output the results\n",
        "print(f\" \\033[1mbooks returned late:\\033[0m  {total_books_returned_late:.0f}\")  # Number of loans returned late\n",
        "print(f\" \\033[1mAverage:\\033[0m              {average_late_days:.1f}\")  # Average late period of books returned late\n"
      ]
    },
    {
      "cell_type": "markdown",
      "metadata": {
        "id": "afPE_JT2nkqn"
      },
      "source": [
        "Out of the books that were brought back late, they were typically delayed by about 3.5 days on average. So, if a book was returned late, it was usually about 3.5 days overdue. And total late days of overall book is 613.  "
      ]
    },
    {
      "cell_type": "markdown",
      "source": [
        "# **Comment on data**\n",
        "\n",
        "Markdown is beneficial for organizing and documenting code, providing clarity through formatting. It helps me structure explanations, outline code sections, and highlight important details for better readability. However, the data files provided lack in headers and proper database format, making it challenging to extract information efficiently. This increases the complexity of data processing and querying tasks. Despite these limitations. I implement functions for genre popularity, loan statistics, and late returns. I comment on the code for clarit. Markdown helps in presenting my approach and insights effectively, facilitating understanding for both myself and assessors."
      ],
      "metadata": {
        "id": "2tP_8SVfE3A5"
      }
    }
  ],
  "metadata": {
    "colab": {
      "provenance": []
    },
    "kernelspec": {
      "display_name": "Python 3 (ipykernel)",
      "language": "python",
      "name": "python3"
    },
    "language_info": {
      "codemirror_mode": {
        "name": "ipython",
        "version": 3
      },
      "file_extension": ".py",
      "mimetype": "text/x-python",
      "name": "python",
      "nbconvert_exporter": "python",
      "pygments_lexer": "ipython3",
      "version": "3.11.5"
    }
  },
  "nbformat": 4,
  "nbformat_minor": 0
}